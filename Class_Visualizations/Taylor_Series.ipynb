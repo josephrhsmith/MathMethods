{
 "cells": [
  {
   "cell_type": "markdown",
   "id": "1fb87dd0-135d-4521-bff8-c92b9d7618dc",
   "metadata": {},
   "source": [
    "# Taylor Series Visualization\n",
    "* J. Smith 01/25/2024"
   ]
  },
  {
   "cell_type": "code",
   "execution_count": 1,
   "id": "e404588c-9f4b-4d7c-9192-aa6ae53908c8",
   "metadata": {},
   "outputs": [],
   "source": [
    "#import libraries for plotting and interactive sliders\n",
    "import numpy as np\n",
    "import matplotlib.pyplot as plt\n",
    "from ipywidgets import interact, interactive, fixed, interact_manual\n",
    "import ipywidgets as widgets"
   ]
  },
  {
   "cell_type": "code",
   "execution_count": 2,
   "id": "b796ae63-dc6d-4566-a23b-c03ebc3ebf3a",
   "metadata": {},
   "outputs": [],
   "source": [
    "#For showing graphs in the notebook nicely\n",
    "%matplotlib inline\n",
    "%config InlineBackend.figure_format = 'retina'"
   ]
  },
  {
   "cell_type": "code",
   "execution_count": 3,
   "id": "b8561a16-93e0-41ac-8bf5-12eca58e465b",
   "metadata": {},
   "outputs": [],
   "source": [
    "#Inspired/Adapted From https://pythonnumericalmethods.berkeley.edu/notebooks/chapter18.02-Approximations-with-Taylor-Series.html\n",
    "def sine(terms=1,Pi_Range =  2):\n",
    "    xrange=Pi_Range*np.pi\n",
    "    x = np.linspace(-xrange,xrange,200)\n",
    "    \n",
    "    \n",
    "    plt.xlim(-xrange,xrange)\n",
    "    print(len(x))\n",
    "    y=np.zeros(len(x))\n",
    "    for n in range(terms):\n",
    "        y = y + ((-1)**n * (x)**(2*n+1)) / np.math.factorial(2*n+1)\n",
    "    \n",
    "    plt.grid()\n",
    "    plt.xlabel('x',fontsize='x-large')\n",
    "    plt.ylabel('y',fontsize='x-large')\n",
    "    plt.axhline(y=0, color='k')\n",
    "    plt.axvline(x=0, color='k')\n",
    "    plt.plot(x,y,linewidth=4,label =r'Taylor Series Terms= ' + str(terms)  )\n",
    "    plt.plot(x, np.sin(x), label= 'Exact')\n",
    "    plt.ylim(-6,6)\n",
    "    plt.legend(fontsize='x-large',loc='upper left')\n",
    "    plt.title('$\\sin(x)$ Taylor Series')\n",
    "    plt.show()\n",
    "    "
   ]
  },
  {
   "cell_type": "code",
   "execution_count": 4,
   "id": "85f840cf-2ab5-4b1b-bd7c-099646b18633",
   "metadata": {},
   "outputs": [
    {
     "data": {
      "application/vnd.jupyter.widget-view+json": {
       "model_id": "a9231fdfba5441c58e70b3b04b8d7020",
       "version_major": 2,
       "version_minor": 0
      },
      "text/plain": [
       "interactive(children=(IntSlider(value=1, description='terms', max=15, min=1), IntSlider(value=2, description='…"
      ]
     },
     "metadata": {},
     "output_type": "display_data"
    }
   ],
   "source": [
    "interact(sine, terms=widgets.IntSlider(min=1,max=15,value=1),Pi_Range=widgets.IntSlider(min=1,max=5,value=2));"
   ]
  },
  {
   "cell_type": "code",
   "execution_count": null,
   "id": "8e17a6be-8d7a-45d1-9fbc-de2ed5355a5e",
   "metadata": {},
   "outputs": [],
   "source": []
  }
 ],
 "metadata": {
  "kernelspec": {
   "display_name": "Python 3.9 (Conda 2022.05) [python/3.9-2022.05]",
   "language": "python",
   "name": "python39_202205"
  },
  "language_info": {
   "codemirror_mode": {
    "name": "ipython",
    "version": 3
   },
   "file_extension": ".py",
   "mimetype": "text/x-python",
   "name": "python",
   "nbconvert_exporter": "python",
   "pygments_lexer": "ipython3",
   "version": "3.9.12"
  }
 },
 "nbformat": 4,
 "nbformat_minor": 5
}
