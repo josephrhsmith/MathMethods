{
 "cells": [
  {
   "cell_type": "markdown",
   "metadata": {},
   "source": [
    "# Fourier Series\n",
    "### MC Physics, Updated 03/23/23\n",
    "\n",
    "Any function can be written as Fourier Series.\n",
    "\n",
    "A Fourier Series is the representation of a periodic function (or equivalently a function defined over a finite domain) as a linear combination of sinusoids.  Let us call the period of the function $L$.\n",
    "\n",
    "Since we can find the components of the fourier series by taking inner products (integrating), it is a mechanical procedure we can get a computer to perform for us. \n"
   ]
  },
  {
   "cell_type": "code",
   "execution_count": null,
   "metadata": {},
   "outputs": [],
   "source": [
    "# import useful packages\n",
    "\n",
    "import sympy as sp\n",
    "import numpy as np\n",
    "import matplotlib.pyplot as plt\n",
    "\n",
    "from IPython.core.display import display, HTML\n",
    "display(HTML(\"<style>.container { width:95% !important; }</style>\"))"
   ]
  },
  {
   "cell_type": "code",
   "execution_count": null,
   "metadata": {},
   "outputs": [],
   "source": [
    "# sympy declarations\n",
    "\n",
    "x=sp.symbols('x',real=True)\n",
    "L=sp.symbols('L',real=True,nonzero=True)\n",
    "n,m=sp.symbols('n,m',integer=True)\n"
   ]
  },
  {
   "cell_type": "markdown",
   "metadata": {},
   "source": [
    "##  Define Inner Product\n",
    "\n",
    "Since it is so useful for determining fourier components, let's make a function to perform the inner product.\n",
    "\n",
    "The inner product is the integral of the complex conjugate of the first function multiplied by the second function.  Sympy has functions for symbolic integration and complex conjugation.\n",
    "\n",
    "The domain of integration is set inside the function, we will choose 0 to L for now."
   ]
  },
  {
   "cell_type": "code",
   "execution_count": null,
   "metadata": {},
   "outputs": [],
   "source": [
    "# inner product definition\n",
    "def inner_product(f,g):\n",
    "    # choose range, here 0 to L\n",
    "    x0=0\n",
    "    #L=1 #P=L=1\n",
    "    return(sp.integrate(sp.conjugate(f)*g,(x, x0, L)))"
   ]
  },
  {
   "cell_type": "markdown",
   "metadata": {},
   "source": [
    "## Choose Fourier Basis\n",
    "\n",
    "We need to choose a set of sinusoids that will allow all $L$-period functions to be represented (a \"complete basis\").  There are several possibilities, but since I have repeatedly claimed that anything you can do with sines or cosines can be done easier with complex exponentials, I will choose complex exponentials (first) here.  \n",
    "\n",
    "Notice that Sympy has definitions `sp.I` and `sp.pi` of $i$ and $\\pi$."
   ]
  },
  {
   "cell_type": "code",
   "execution_count": null,
   "metadata": {},
   "outputs": [],
   "source": [
    "# choose general basis function, here complex exponential\n",
    "def u(n):\n",
    "    return(sp.exp((sp.I*2*sp.pi * n * x)/L))"
   ]
  },
  {
   "cell_type": "code",
   "execution_count": null,
   "metadata": {},
   "outputs": [],
   "source": [
    "# checking by display\n",
    "u(5)"
   ]
  },
  {
   "cell_type": "code",
   "execution_count": null,
   "metadata": {},
   "outputs": [],
   "source": [
    "# checking for orthogonality\n",
    "\n",
    "inner_product(u(4),u(5))"
   ]
  },
  {
   "cell_type": "markdown",
   "metadata": {},
   "source": [
    "Ok, it worked once, let's try the general case."
   ]
  },
  {
   "cell_type": "code",
   "execution_count": null,
   "metadata": {},
   "outputs": [],
   "source": [
    "inner_product(u(n),u(m))"
   ]
  },
  {
   "cell_type": "markdown",
   "metadata": {},
   "source": [
    "Those conditionals look ugly, let's see if they simplify."
   ]
  },
  {
   "cell_type": "code",
   "execution_count": null,
   "metadata": {},
   "outputs": [],
   "source": [
    "inner_product(u(n),u(m)).simplify()"
   ]
  },
  {
   "cell_type": "markdown",
   "metadata": {},
   "source": [
    "### Check #1: Explain what functions are being used in the Fourier Series below"
   ]
  },
  {
   "cell_type": "markdown",
   "metadata": {},
   "source": []
  },
  {
   "cell_type": "markdown",
   "metadata": {},
   "source": [
    "## Insert function to represent\n",
    "\n",
    "Any function defined on our domain (here $0$ to $L$ was chosen) can be used.  I'll try the square of $x$."
   ]
  },
  {
   "cell_type": "code",
   "execution_count": null,
   "metadata": {},
   "outputs": [],
   "source": [
    "f= x**2\n",
    "display(f)\n",
    "\n",
    "#For piecewise functions:\n",
    "#fp = sp.Piecewise((0, x < 0), (f, x <= 1), (0, True))\n",
    "#display(f)"
   ]
  },
  {
   "cell_type": "code",
   "execution_count": null,
   "metadata": {},
   "outputs": [],
   "source": [
    "sp.plot(f)"
   ]
  },
  {
   "cell_type": "markdown",
   "metadata": {},
   "source": [
    "### Check #2: What function are we representing with a Fourier series, over what domain?"
   ]
  },
  {
   "cell_type": "markdown",
   "metadata": {},
   "source": []
  },
  {
   "cell_type": "markdown",
   "metadata": {},
   "source": [
    "## Find Fourier coefficients (aka components)\n",
    "\n",
    "Fourier's trick (assume Fourier series exists, take the inner product of the Fourier series and one of the basis functions, then solve) shows us that the Fourier component is the inner product of the function and the basis function divided by the inner product of the basis function with itself:\n",
    "\n",
    "$$ c_n = \\frac{\\langle u_n,f \\rangle}{\\langle u_n,u_n \\rangle} $$"
   ]
  },
  {
   "cell_type": "code",
   "execution_count": null,
   "metadata": {},
   "outputs": [],
   "source": [
    "# coefficients\n",
    "def c(n):\n",
    "    return(inner_product(u(n),f)/inner_product(u(n),u(n)))\n"
   ]
  },
  {
   "cell_type": "code",
   "execution_count": null,
   "metadata": {},
   "outputs": [],
   "source": [
    "c(3)"
   ]
  },
  {
   "cell_type": "markdown",
   "metadata": {},
   "source": [
    "That looks a bit complicated, we should look to see if it can be simplified. Sympy may not find all useful simplifications, but it is easy to let it check for us."
   ]
  },
  {
   "cell_type": "code",
   "execution_count": null,
   "metadata": {},
   "outputs": [],
   "source": [
    "c(3).simplify()"
   ]
  },
  {
   "cell_type": "markdown",
   "metadata": {},
   "source": [
    "Can Sympy give us a general answer?"
   ]
  },
  {
   "cell_type": "code",
   "execution_count": null,
   "metadata": {},
   "outputs": [],
   "source": [
    "c(n).simplify()"
   ]
  },
  {
   "cell_type": "markdown",
   "metadata": {},
   "source": [
    "Let's make sure it agrees with specific result in a few cases."
   ]
  },
  {
   "cell_type": "code",
   "execution_count": null,
   "metadata": {},
   "outputs": [],
   "source": [
    "c(7).simplify()"
   ]
  },
  {
   "cell_type": "code",
   "execution_count": null,
   "metadata": {},
   "outputs": [],
   "source": [
    "c(0)"
   ]
  },
  {
   "cell_type": "markdown",
   "metadata": {},
   "source": [
    "## Make a finite partial series\n",
    "\n",
    "How will we check if this answer is correct?  We know the function it is supposed to match (between $0$ and $L$), so we should be able to compare. But how do we determine the value of this infinite series?  One good way is to plot a partial series where we terminate at some point."
   ]
  },
  {
   "cell_type": "code",
   "execution_count": null,
   "metadata": {},
   "outputs": [],
   "source": [
    "# partial series  (be careful with range, I am summing with n from -N to N here)\n",
    "def S(N):\n",
    "    return(sum(c(n)*u(n) for n in range(-N, N+1)))\n",
    "\n"
   ]
  },
  {
   "cell_type": "code",
   "execution_count": null,
   "metadata": {},
   "outputs": [],
   "source": [
    "fapprox=S(5)\n",
    "display(fapprox)"
   ]
  },
  {
   "cell_type": "markdown",
   "metadata": {},
   "source": [
    "Not exactly the order I would write them in, but this looks ok.  Notice that Sympy has left terms proportional to $\\pm \\frac{i L^3}{\\pi^3}$ that cancel."
   ]
  },
  {
   "cell_type": "code",
   "execution_count": null,
   "metadata": {},
   "outputs": [],
   "source": [
    "fapprox.simplify()"
   ]
  },
  {
   "cell_type": "markdown",
   "metadata": {},
   "source": [
    "Not the nicest form, I would prefer smaller denominators.\n"
   ]
  },
  {
   "cell_type": "code",
   "execution_count": null,
   "metadata": {},
   "outputs": [],
   "source": [
    "# partial series  (be careful with range, I am summing with n from -N to N here)\n",
    "def S(N):\n",
    "    return(sum(c(n).simplify()*u(n) for n in range(-N, N+1)))\n",
    "\n"
   ]
  },
  {
   "cell_type": "code",
   "execution_count": null,
   "metadata": {},
   "outputs": [],
   "source": [
    "fapprox=S(5)\n",
    "display(fapprox)"
   ]
  },
  {
   "cell_type": "markdown",
   "metadata": {},
   "source": [
    "### Check #3 How many terms are included in the sum above? Think about how you would increase it (you'll need to do this later)"
   ]
  },
  {
   "cell_type": "code",
   "execution_count": null,
   "metadata": {},
   "outputs": [],
   "source": []
  },
  {
   "cell_type": "markdown",
   "metadata": {},
   "source": [
    "## Visualize the result\n",
    "\n",
    "Let's visualize this series. (You will see an error, think about what it might be then keep reading with the next cell)"
   ]
  },
  {
   "cell_type": "code",
   "execution_count": null,
   "metadata": {},
   "outputs": [],
   "source": [
    "sp.plot(fapprox,(x,0,L),show=False)"
   ]
  },
  {
   "cell_type": "markdown",
   "metadata": {},
   "source": [
    "So that failed.  It is tough to tell from the error message that was returned, but the error stems from a variable remaining in the expression even though $x$ has been given a value.  One good thing to check is specific values that Sympy is trying to plot.  By using `.subs()` we can see a value of the function for a particular value of the independent variable.  Here I am setting the value of `x` to one."
   ]
  },
  {
   "cell_type": "code",
   "execution_count": null,
   "metadata": {},
   "outputs": [],
   "source": [
    "fapprox.subs(x,1)"
   ]
  },
  {
   "cell_type": "markdown",
   "metadata": {},
   "source": [
    "This makes my mistake obvious: there is a variable $L$ remaining in the problem. We need to explicitly tell Sympy what $L$ to use. "
   ]
  },
  {
   "cell_type": "markdown",
   "metadata": {},
   "source": [
    "### Turn into a dimensionless problem\n",
    "\n",
    "So computer math, even symbolic math, benefits from dimensionless variables.  If we measure $x$ in units of $L$, or equivalently use the ratio $x/L$ s our independent variable, this makes our independent variable dimensionless.  We can do this by setting the value of $L$ to one (so that $x=x/L$).  Notice that this also makes $f=x^2$ unitless (previously it had dimensions of length squared). "
   ]
  },
  {
   "cell_type": "code",
   "execution_count": null,
   "metadata": {},
   "outputs": [],
   "source": [
    "fapproxN=fapprox.subs(L,1)\n",
    "display(fapproxN)"
   ]
  },
  {
   "cell_type": "code",
   "execution_count": null,
   "metadata": {},
   "outputs": [],
   "source": [
    "sp.plot(fapproxN,(x,-2,2));"
   ]
  },
  {
   "cell_type": "markdown",
   "metadata": {},
   "source": [
    "Let's plot both the Fourier partial series and the original function."
   ]
  },
  {
   "cell_type": "code",
   "execution_count": null,
   "metadata": {},
   "outputs": [],
   "source": [
    "sp.plot(fapproxN,(x,-2,2));\n",
    "sp.plot(f,(x,-2,2));"
   ]
  },
  {
   "cell_type": "markdown",
   "metadata": {},
   "source": [
    "It would be nice to compare these on the same scale, which requires a few steps: creating a python variable for the plot, extending that plot, and then showing the combined plot. "
   ]
  },
  {
   "cell_type": "code",
   "execution_count": null,
   "metadata": {},
   "outputs": [],
   "source": [
    "# f actual and approx\n",
    "plot1=sp.plot(fapproxN,(x,-2,2),show=False)\n",
    "\n",
    "plot1.extend(sp.plot(f, (x, -2, 2), line_color='r', show=False))\n",
    "plot1.show();"
   ]
  },
  {
   "cell_type": "markdown",
   "metadata": {},
   "source": [
    "### Check #4: Explain the graph above. Why does it look like that?"
   ]
  },
  {
   "cell_type": "code",
   "execution_count": null,
   "metadata": {},
   "outputs": [],
   "source": []
  },
  {
   "cell_type": "markdown",
   "metadata": {},
   "source": [
    "Notice the series matches the function reasonably well, but only in the domain we chose: $0$ to $L=1$.  Also notice that the series is periodic with period $L=1$.  "
   ]
  },
  {
   "cell_type": "markdown",
   "metadata": {},
   "source": [
    "### Check #5: Change the code above (not directly above you'll have to go several cells up)  to increase the number of terms (at least double) and see how it improves the quality of the series approximation. What did you change?"
   ]
  },
  {
   "cell_type": "markdown",
   "metadata": {},
   "source": []
  },
  {
   "cell_type": "markdown",
   "metadata": {},
   "source": [
    "### Check #6: Change the function from $x^2$ to something else and observe the series"
   ]
  },
  {
   "cell_type": "markdown",
   "metadata": {},
   "source": [
    "## Extensions (If time allows)"
   ]
  },
  {
   "cell_type": "markdown",
   "metadata": {},
   "source": [
    "### Alternate forms\n",
    "\n",
    "Our function was purely real, but our partial series looks complex.  It isn't, the terms for $n$ and $-n$ add to give purely real functions (sines and cosines).  We could translate this ourselves, or we could let Sympy do it. "
   ]
  },
  {
   "cell_type": "code",
   "execution_count": null,
   "metadata": {},
   "outputs": [],
   "source": [
    "fapprox.expand(complex=True)"
   ]
  },
  {
   "cell_type": "markdown",
   "metadata": {},
   "source": [
    "Interesting, Sympy writes the sines first, then the cosines, and the constant term last."
   ]
  },
  {
   "cell_type": "markdown",
   "metadata": {},
   "source": [
    "We could also chose a different set of basis functions ($u_n$'s) and find alternate Fourier series."
   ]
  },
  {
   "cell_type": "markdown",
   "metadata": {},
   "source": [
    "### Plot coefficients"
   ]
  },
  {
   "cell_type": "code",
   "execution_count": null,
   "metadata": {},
   "outputs": [],
   "source": [
    "c(n).simplify()"
   ]
  },
  {
   "cell_type": "code",
   "execution_count": null,
   "metadata": {},
   "outputs": [],
   "source": [
    "cN=c(n).subs(L,1).simplify()\n",
    "display(cN)"
   ]
  },
  {
   "cell_type": "code",
   "execution_count": null,
   "metadata": {},
   "outputs": [],
   "source": [
    "# f actual and approx\n",
    "plot2=sp.plot(sp.re(cN),(n,-4,4),show=False)\n",
    "\n",
    "plot2.extend(sp.plot(sp.im(cN),(n,-4,4), line_color='r', show=False))\n",
    "plot2.show();"
   ]
  },
  {
   "cell_type": "markdown",
   "metadata": {},
   "source": [
    "That doesn't look good.  Sympy is plotting coefficients like they are a continuous function, but they are discrete (with integer indices).  Since it is plotting between 0 and 1, the values blow up.  It also doesn't deal well with the special case at n=0.  One needs to use a different tool than Sympy to make discrete plots. Perhaps in this case by hand is easier: the real part is inversely proportional to n squared, and the imaginary part is inversely proportional to n. "
   ]
  },
  {
   "cell_type": "markdown",
   "metadata": {},
   "source": [
    "But let me try it anyway, you might learn a few tricks from the process."
   ]
  },
  {
   "cell_type": "code",
   "execution_count": null,
   "metadata": {},
   "outputs": [],
   "source": [
    "sp.re(c(n)).simplify().subs(L,1)"
   ]
  },
  {
   "cell_type": "code",
   "execution_count": null,
   "metadata": {},
   "outputs": [],
   "source": [
    "sp.im(c(n)).simplify().subs(L,1)"
   ]
  },
  {
   "cell_type": "code",
   "execution_count": null,
   "metadata": {},
   "outputs": [],
   "source": [
    "def cim(n):\n",
    "    return(sp.im(c(n)).simplify().subs(L,1))\n",
    "\n",
    "def cre(n):\n",
    "    return(sp.re(c(n)).simplify().subs(L,1))\n"
   ]
  },
  {
   "cell_type": "code",
   "execution_count": null,
   "metadata": {},
   "outputs": [],
   "source": [
    "cim(1)"
   ]
  },
  {
   "cell_type": "code",
   "execution_count": null,
   "metadata": {},
   "outputs": [],
   "source": [
    "ind = np.linspace(-10, 10, 21)\n"
   ]
  },
  {
   "cell_type": "code",
   "execution_count": null,
   "metadata": {},
   "outputs": [],
   "source": [
    "ind"
   ]
  },
  {
   "cell_type": "code",
   "execution_count": null,
   "metadata": {},
   "outputs": [],
   "source": [
    "import numpy as np\n",
    "\n",
    "cimn=sp.lambdify(n,cim(n),'numpy')\n",
    "cren=sp.lambdify(n,cre(n),'numpy')"
   ]
  },
  {
   "cell_type": "code",
   "execution_count": null,
   "metadata": {},
   "outputs": [],
   "source": [
    "cimn(3)"
   ]
  },
  {
   "cell_type": "code",
   "execution_count": null,
   "metadata": {},
   "outputs": [],
   "source": [
    "plt.plot(ind,cren(ind),'.');\n",
    "plt.plot(ind,cimn(ind),'.')"
   ]
  },
  {
   "cell_type": "markdown",
   "metadata": {},
   "source": [
    "Notice that the (purely real) zero coefficient is largest, while the imaginary term is largest for other values since it is inversely proportional to n while the real part is inversely proportional to n squared. "
   ]
  },
  {
   "cell_type": "code",
   "execution_count": null,
   "metadata": {},
   "outputs": [],
   "source": []
  },
  {
   "cell_type": "code",
   "execution_count": null,
   "metadata": {},
   "outputs": [],
   "source": []
  }
 ],
 "metadata": {
  "kernelspec": {
   "display_name": "Python 3",
   "language": "python",
   "name": "python3"
  },
  "language_info": {
   "codemirror_mode": {
    "name": "ipython",
    "version": 3
   },
   "file_extension": ".py",
   "mimetype": "text/x-python",
   "name": "python",
   "nbconvert_exporter": "python",
   "pygments_lexer": "ipython3",
   "version": "3.6.8"
  }
 },
 "nbformat": 4,
 "nbformat_minor": 4
}
