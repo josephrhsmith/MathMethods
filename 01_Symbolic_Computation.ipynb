{
 "cells": [
  {
   "cell_type": "markdown",
   "metadata": {},
   "source": [
    "# Work through the following Notebook and answer the listed questions\n",
    "\n",
    "# Introduction/Motivation\n",
    "\n",
    "In addition to working with numerical computations, it's possible to use python in symbolic work. The necessary library is called `sympy`. One of the nice features of `sympy` (especially in a notebook) is that it will format mathematical output to look more like math than like code.  To ask `sympy` to do this, call the `init_printing` function.\n",
    "\n",
    "This tutorial is based around `sympy` version 1.3. Earlier versions may lack some functionality; later versions may be more capable or have changed apis."
   ]
  },
  {
   "cell_type": "code",
   "execution_count": null,
   "metadata": {},
   "outputs": [],
   "source": [
    "pip install sympy #Run to install sympy if not already installed"
   ]
  },
  {
   "cell_type": "code",
   "execution_count": null,
   "metadata": {},
   "outputs": [],
   "source": [
    "pip install matplotlib #For plotting if not already installed"
   ]
  },
  {
   "cell_type": "code",
   "execution_count": null,
   "metadata": {},
   "outputs": [],
   "source": [
    "# Imports for this tutorial\n",
    "import sympy as sp\n",
    "\n",
    "sp.init_printing()\n",
    "\n",
    "sp.__version__"
   ]
  },
  {
   "cell_type": "markdown",
   "metadata": {},
   "source": [
    "# Simplest use cases\n",
    "\n",
    "The first hurdle you will need to overcome in symbolic work is to keep clear in your mind the distinction between mathematical *symbols* and python *variables*. We often use the word *variable* to refer to mathematical quantities, but in the context of `sympy` that is likely to lead to confusion. I'll try to be consistent in this tutorial to only use the word *variable* to refer to a reference to a python object, and I'll use the word *symbol* to refer to mathematical objects.\n",
    "\n",
    "Unfortunately, we will have to use python variables to refer to `sympy` symbols; if you're not careful, you can get confused.  Before we can use a symbol, we have to declare it and assign it to a variable. We can do both in a single statement:"
   ]
  },
  {
   "cell_type": "code",
   "execution_count": null,
   "metadata": {},
   "outputs": [],
   "source": [
    "x = sp.symbols('x')"
   ]
  },
  {
   "cell_type": "markdown",
   "metadata": {},
   "source": [
    "You can instantiate several symbols at a time and assign them all to variables:"
   ]
  },
  {
   "cell_type": "code",
   "execution_count": null,
   "metadata": {},
   "outputs": [],
   "source": []
  },
  {
   "cell_type": "code",
   "execution_count": null,
   "metadata": {},
   "outputs": [],
   "source": [
    "a,b,c = sp.symbols('a b c')"
   ]
  },
  {
   "cell_type": "markdown",
   "metadata": {},
   "source": [
    "Symbol names are separated by spaces or commas.  Greek letters are supported by name, as well:"
   ]
  },
  {
   "cell_type": "code",
   "execution_count": null,
   "metadata": {},
   "outputs": [],
   "source": [
    "alpha, beta, gamma, lam = sp.symbols('alpha, beta, gamma, lambda')\n",
    "alpha, beta, gamma, lam"
   ]
  },
  {
   "cell_type": "markdown",
   "metadata": {},
   "source": [
    "However, note that `lambda` is a reserved word in python (it's used for anonymous functions) so if you have a $\\lambda$ in your math you'll need to give the python variable a name other than `lambda`."
   ]
  },
  {
   "cell_type": "markdown",
   "metadata": {},
   "source": [
    "## Algebra\n",
    "\n",
    "Okay, this has been boring so far. Let's do something a little more interesting! Let's try multiplying a couple of polynomials."
   ]
  },
  {
   "cell_type": "code",
   "execution_count": null,
   "metadata": {},
   "outputs": [],
   "source": [
    "poly1 = a*x**2 + b*x + c\n",
    "poly2 = alpha*x**2 + beta*x + lam\n",
    "\n",
    "poly1"
   ]
  },
  {
   "cell_type": "code",
   "execution_count": null,
   "metadata": {},
   "outputs": [],
   "source": [
    "poly1*poly2"
   ]
  },
  {
   "cell_type": "markdown",
   "metadata": {},
   "source": [
    "If we want to expand this, we need to ask for it explicitly."
   ]
  },
  {
   "cell_type": "code",
   "execution_count": null,
   "metadata": {},
   "outputs": [],
   "source": [
    "sp.expand(poly1*poly2)"
   ]
  },
  {
   "cell_type": "markdown",
   "metadata": {},
   "source": [
    "Most methods can either be called from the module directly (as above), or they can be chained off of `sympy` expressions:"
   ]
  },
  {
   "cell_type": "code",
   "execution_count": null,
   "metadata": {},
   "outputs": [],
   "source": [
    "(poly1**4).expand()"
   ]
  },
  {
   "cell_type": "markdown",
   "metadata": {},
   "source": [
    "In the preceeding I used parentheses to make sure the call to `expand()` was applied to the whole expression rather than just the number 4.\n",
    "\n",
    "We can also solve symbolically (factoring when possible):"
   ]
  },
  {
   "cell_type": "code",
   "execution_count": null,
   "metadata": {},
   "outputs": [],
   "source": [
    "sp.solve(poly1, x)"
   ]
  },
  {
   "cell_type": "markdown",
   "metadata": {},
   "source": [
    "The core of the syntax is `sp.solve(expr, symbol)`, where `expr` is the expression you're solving, and `symbol` is the `sympy` symbol for which you are solving.\n",
    "\n",
    "The `solve` method can work on two different types of expressions: with or without a statement about equality. If your expression doesn't contain an equals sign, (as above), the right hand side of the expression is assumed to be zero.\n",
    "\n",
    "### A side note about equality\n",
    "The mathematical symbol `=` can mean one of several different things when we use it on paper. This kind of ambiguity doesn't work well for computers, so we have to introduce different python syntax for the different meanings of `=`. In order of least to most complicated syntax:\n",
    "\n",
    "- **Assignment operator** in a statement like `a=4`, the `=` means \"assign the value on the right to the variable on the left.\" If the thing on the left isn't a variable, python will throw an exception. Otherwise, it changes the value of the variable and returns nothing.\n",
    "\n",
    "- **Test of equality** in a statement like `a==4`, the `==` means \"True or False: the value of the thing on the left the same as the value of the thing on the right.\" \n",
    "\n",
    "- **A statement of mathematical equality** This is the new one. We use the `sympy` function `Eq` to create a mathematical expression that asserts equality: `Eq(a,4)`. This code means \"the symbol (or collection of symbols) contained in the python variable `a` is mathematically equal to 4.\" it returns a `sympy` expression which makes that assertion."
   ]
  },
  {
   "cell_type": "code",
   "execution_count": null,
   "metadata": {},
   "outputs": [],
   "source": [
    "sp.Eq(poly1, poly2)"
   ]
  },
  {
   "cell_type": "markdown",
   "metadata": {},
   "source": [
    "## Question 1: Explain what the command above does in your own words\n",
    " (Explanation here)"
   ]
  },
  {
   "cell_type": "code",
   "execution_count": null,
   "metadata": {},
   "outputs": [],
   "source": [
    "sp.solve(sp.Eq(poly1, poly2), x)"
   ]
  },
  {
   "cell_type": "markdown",
   "metadata": {},
   "source": [
    "Note that `solve` doesn't return a `sympy` expression; it returns a *python list* of expressions. Why is this important? Hint: `sympy` functions only work on `sympy` expressions.\n",
    "\n",
    "A fourth order equation has four solutions, so `solve` returns four items in the list:"
   ]
  },
  {
   "cell_type": "code",
   "execution_count": null,
   "metadata": {},
   "outputs": [],
   "source": [
    "sp.solve(poly1*poly2, x)"
   ]
  },
  {
   "cell_type": "markdown",
   "metadata": {},
   "source": [
    "## Question 2: Recall from Worksheet 1 that we found $x$ for $3x^2 - 5x + 3 = 1$. Use sympy to solve the equation and compare your results below\n",
    "Hint: Use sp.solve(). You will need to rearrange the equation below before using sp.solve"
   ]
  },
  {
   "cell_type": "code",
   "execution_count": null,
   "metadata": {},
   "outputs": [],
   "source": [
    "#3*x**2-5*x+3=1"
   ]
  },
  {
   "cell_type": "markdown",
   "metadata": {},
   "source": [
    "We can manage complex roots just fine."
   ]
  },
  {
   "cell_type": "code",
   "execution_count": null,
   "metadata": {},
   "outputs": [],
   "source": [
    "sp.solve(x**3 + c, x)"
   ]
  },
  {
   "cell_type": "markdown",
   "metadata": {},
   "source": [
    "If our expression contains numbers in addition to symbols, those are handled (somewhat) gracefully, but the bias is always toward returning a symbolic result of some kind."
   ]
  },
  {
   "cell_type": "code",
   "execution_count": null,
   "metadata": {},
   "outputs": [],
   "source": [
    "sp.solve(x**3 - 7*x**2 - 2*x + 4, x)"
   ]
  },
  {
   "cell_type": "markdown",
   "metadata": {},
   "source": [
    "If we want a numerical result, we have to ask for it with either `N` or `evalf`. The syntax is slightly different, but they give the same result. \n",
    "\n",
    "\n",
    "**Side note:**\n",
    "Since `solve` returns a list of solutions, I have to apply the appropriate method to each element of the list. The pythonic way to do this is with a list comprehension."
   ]
  },
  {
   "cell_type": "code",
   "execution_count": null,
   "metadata": {},
   "outputs": [],
   "source": [
    "[sp.N(ans) for ans in sp.solve(x**3 - 7*x**2 - 2*x + 4, x)]"
   ]
  },
  {
   "cell_type": "code",
   "execution_count": null,
   "metadata": {},
   "outputs": [],
   "source": [
    "[ans.evalf() for ans in sp.solve(x**3 - 7*x**2 - 2*x + 4, x)]"
   ]
  },
  {
   "cell_type": "markdown",
   "metadata": {},
   "source": [
    "Okay, so there's something odd going on here. We're getting some really small imaginary parts in our solutions. Generally speaking, when a numerical calculation returns something that small (especially when it's added to something much larger) it's failing to correctly represent zero. If we plot this, can we see three real roots? \n",
    "\n",
    "(Hey, `sympy` can plot, too! this is a little more convenient that the plotting we've done with `matplotlib` in the past, though it does use `matplotlib` under the hood. As a reminder, the `%matplotlib inline` magic displays plots inline in the notebook.)\n",
    "\n",
    "The syntax to plot a function of a single variable is `plot(expr, range)` where `expr` is a symbolic expression, and `range` is a 3-tuple of the form `(symbol, min, max)`."
   ]
  },
  {
   "cell_type": "code",
   "execution_count": null,
   "metadata": {},
   "outputs": [],
   "source": [
    "# so we can see the plot in the notebook\n",
    "%matplotlib inline\n",
    "\n",
    "sp.plot((x**3 - 7*x**2 - 2*x + 4), (x, -2.5, 7.5))"
   ]
  },
  {
   "cell_type": "markdown",
   "metadata": {},
   "source": [
    "We have three real roots, so why the spurious tiny imaginary parts?  What's happening here is that `sympy` is finding the difference of two values which *should* exactly cancel, but due to finite precision, don't. This is a known problem, though, so it has a built-in resolution: the `chop` keyword."
   ]
  },
  {
   "cell_type": "code",
   "execution_count": null,
   "metadata": {},
   "outputs": [],
   "source": [
    "[ans.evalf(chop=True) for ans in sp.solve(x**3 - 7*x**2 - 2*x + 4, x)]"
   ]
  },
  {
   "cell_type": "markdown",
   "metadata": {},
   "source": [
    "These answers line up with those shown on the plot, and no longer have the distracting almost-zero imaginary parts."
   ]
  },
  {
   "cell_type": "markdown",
   "metadata": {},
   "source": [
    "## Question 3: Based on the results above what are the solutions to $ x^3 - 7x^2-2x+4$?\n",
    "(answer here)"
   ]
  },
  {
   "cell_type": "markdown",
   "metadata": {},
   "source": [
    "If we want to evaluate the function at a single point, we have to do a substitution first, and then an evaluation. The `evalf` method has a keyword for this:"
   ]
  },
  {
   "cell_type": "code",
   "execution_count": null,
   "metadata": {},
   "outputs": [],
   "source": [
    "cubic = x**3 - 7*x**2 - 2*x + 4\n",
    "\n",
    "cubic.evalf(subs={x:1})"
   ]
  },
  {
   "cell_type": "markdown",
   "metadata": {},
   "source": [
    "but we can use the `subs` method for more general substitutions."
   ]
  },
  {
   "cell_type": "code",
   "execution_count": null,
   "metadata": {},
   "outputs": [],
   "source": [
    "cubic.subs({x:a})"
   ]
  },
  {
   "cell_type": "markdown",
   "metadata": {},
   "source": [
    "Both the `subs` method and the keyword to `evalf` take dictionaries as arguments, so that you can substitute multiple symbols at once."
   ]
  },
  {
   "cell_type": "code",
   "execution_count": null,
   "metadata": {},
   "outputs": [],
   "source": [
    "poly1.subs({a:3, b:-5, c:6})"
   ]
  },
  {
   "cell_type": "code",
   "execution_count": null,
   "metadata": {},
   "outputs": [],
   "source": [
    "# Sympy doesn't plot functions with asymptotes elegantly\n",
    "%matplotlib inline\n",
    "\n",
    "sp.plot((x**3 - 7*x**2 - 2*x + 4)**(-1), (x, -2.5, 7.5))\n",
    "\n",
    "sp.plot((x**3 - 7*x**2 - 2*x + 4)**(-1), (x, -2.5, 7.5),ylim=[-2,2])"
   ]
  },
  {
   "cell_type": "markdown",
   "metadata": {},
   "source": [
    "## Simple calculus\n",
    "\n",
    "As you might expect, we can compute derivatives and integrals with `sympy`, too."
   ]
  },
  {
   "cell_type": "code",
   "execution_count": null,
   "metadata": {},
   "outputs": [],
   "source": [
    "sp.diff(poly1, x)"
   ]
  },
  {
   "cell_type": "code",
   "execution_count": null,
   "metadata": {},
   "outputs": [],
   "source": [
    "sp.integrate(poly1, x)"
   ]
  },
  {
   "cell_type": "code",
   "execution_count": null,
   "metadata": {},
   "outputs": [],
   "source": [
    "sp.integrate(poly1, (x, 0, 5))"
   ]
  },
  {
   "cell_type": "markdown",
   "metadata": {},
   "source": [
    "If you're working with functions that are more complicated than simple arithmetic compositions, be sure to use the `sympy` versions."
   ]
  },
  {
   "cell_type": "code",
   "execution_count": null,
   "metadata": {},
   "outputs": [],
   "source": [
    "func = sp.exp(-2*x**2)*sp.sin(3*sp.pi*x)"
   ]
  },
  {
   "cell_type": "code",
   "execution_count": null,
   "metadata": {},
   "outputs": [],
   "source": [
    "sp.plot(func, (x, -2, 2))"
   ]
  },
  {
   "cell_type": "markdown",
   "metadata": {},
   "source": [
    "## Question 4: Calculate at least one derivative **and** one integral of your choice below"
   ]
  },
  {
   "cell_type": "code",
   "execution_count": null,
   "metadata": {},
   "outputs": [],
   "source": []
  },
  {
   "cell_type": "code",
   "execution_count": null,
   "metadata": {},
   "outputs": [],
   "source": []
  },
  {
   "cell_type": "markdown",
   "metadata": {},
   "source": []
  },
  {
   "cell_type": "code",
   "execution_count": null,
   "metadata": {},
   "outputs": [],
   "source": [
    "funcprime = sp.diff(func, x)\n",
    "funcprime"
   ]
  },
  {
   "cell_type": "markdown",
   "metadata": {},
   "source": [
    "If `sympy` can't figure out how to do an integral, it will return the integral without evaluating it. This is even true of integrals which could be calculated numerically; you have to use a different approach (about which more later) to deal with them."
   ]
  },
  {
   "cell_type": "code",
   "execution_count": null,
   "metadata": {},
   "outputs": [],
   "source": [
    "sp.integrate(func, x)"
   ]
  },
  {
   "cell_type": "code",
   "execution_count": null,
   "metadata": {},
   "outputs": [],
   "source": [
    "sp.integrate(func, (x, 0,1))"
   ]
  },
  {
   "cell_type": "markdown",
   "metadata": {},
   "source": [
    "One advantage `sympy` has for physics students is that it is very careful about convergence conditions we tend to ignore (or treat in a sloppy way). It's also aware of a whole host of special functions."
   ]
  },
  {
   "cell_type": "code",
   "execution_count": null,
   "metadata": {},
   "outputs": [],
   "source": [
    "sp.integrate(x**a*sp.exp(-x), (x, 0, sp.oo))"
   ]
  },
  {
   "cell_type": "markdown",
   "metadata": {},
   "source": [
    "You can deal with some of these conditions by constraining your symbols (see the appropriate section below)."
   ]
  },
  {
   "cell_type": "markdown",
   "metadata": {},
   "source": [
    "## Series (We can also look at series with sympy)"
   ]
  },
  {
   "cell_type": "code",
   "execution_count": null,
   "metadata": {},
   "outputs": [],
   "source": [
    "sp.series(sp.sin(x),n=15)"
   ]
  },
  {
   "cell_type": "markdown",
   "metadata": {},
   "source": [
    "## Question 5: Show the first 5 terms of arctangent below"
   ]
  },
  {
   "cell_type": "code",
   "execution_count": null,
   "metadata": {},
   "outputs": [],
   "source": []
  },
  {
   "cell_type": "markdown",
   "metadata": {},
   "source": [
    "# Additional information"
   ]
  },
  {
   "cell_type": "code",
   "execution_count": null,
   "metadata": {},
   "outputs": [],
   "source": [
    "help(sp.plot)"
   ]
  }
 ],
 "metadata": {
  "kernelspec": {
   "display_name": "Python 3",
   "language": "python",
   "name": "python3"
  },
  "language_info": {
   "codemirror_mode": {
    "name": "ipython",
    "version": 3
   },
   "file_extension": ".py",
   "mimetype": "text/x-python",
   "name": "python",
   "nbconvert_exporter": "python",
   "pygments_lexer": "ipython3",
   "version": "3.6.8"
  }
 },
 "nbformat": 4,
 "nbformat_minor": 4
}
