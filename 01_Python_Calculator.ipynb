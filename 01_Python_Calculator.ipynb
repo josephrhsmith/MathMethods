{
 "cells": [
  {
   "cell_type": "markdown",
   "metadata": {},
   "source": [
    "# Python as a Calculator \n",
    "* Marietta Physics: J. Smith, C. McKay Updated: 1/24/2023"
   ]
  },
  {
   "cell_type": "markdown",
   "metadata": {},
   "source": [
    "## Introduction/Motivation\n",
    "\n",
    "One of the simplest ways to use computation in solving physics problems is to use your computational environment as a calculator. You've already been doing this for years with a purpose-built calculator; this notebook will walk you through some of what's necessary to use python instead, and will give some insight as to why you might want to."
   ]
  },
  {
   "cell_type": "markdown",
   "metadata": {},
   "source": [
    "## Simplest use cases\n",
    "\n",
    "Simple mathematical operations are built in to the base language. You can evaluate expressions by just typing them into an input cell (in a notebook) or at the python prompt (if you're using the interpreter in a shell).\n",
    "\n",
    "To execute cells in a jupyter notebook, select the cell by clicking on it and press **shift-enter**.  As you work through this notebook, execute the cells so you can see the output. For each checkpoint make the required calculation and check your answer and/or show your instructor. "
   ]
  },
  {
   "cell_type": "code",
   "execution_count": null,
   "metadata": {},
   "outputs": [],
   "source": [
    "3 + 5"
   ]
  },
  {
   "cell_type": "markdown",
   "metadata": {},
   "source": [
    "Most operations work the way you would expect, and have the sort of order of operations you would expect, but it's often good to use parentheses to make things easier to read."
   ]
  },
  {
   "cell_type": "code",
   "execution_count": null,
   "metadata": {},
   "outputs": [],
   "source": [
    "3*(4+8) - 6"
   ]
  },
  {
   "cell_type": "markdown",
   "metadata": {},
   "source": [
    "There are a couple of pieces of notation you may not be familiar with, however. The most important one for our purposes is exponentiation. This is accomplished in python with two asterisks:"
   ]
  },
  {
   "cell_type": "code",
   "execution_count": null,
   "metadata": {},
   "outputs": [],
   "source": [
    "2**3"
   ]
  },
  {
   "cell_type": "markdown",
   "metadata": {},
   "source": [
    "The caret (`^`) is a bitwise exclusive or operator (usually referred to as XOR), which is almost never useful in physics contexts, and **will not give you what you're expecting** if you're trying to raise something to a power."
   ]
  },
  {
   "cell_type": "code",
   "execution_count": null,
   "metadata": {},
   "outputs": [],
   "source": [
    "2^3"
   ]
  },
  {
   "cell_type": "markdown",
   "metadata": {},
   "source": [
    "### Checkpoint 1: Calculate $3^2 + 4/2$ in the cell below, then check your answer by hand"
   ]
  },
  {
   "cell_type": "code",
   "execution_count": null,
   "metadata": {},
   "outputs": [],
   "source": []
  },
  {
   "cell_type": "markdown",
   "metadata": {},
   "source": [
    "## Advanced Operations\n",
    "Once you move beyond simple operators into more complicated mathematical objects (such as vectors or matrices) and functions, you will find that you need to load a mathematical library. Python will helpfully tell you if you try to use a function it doesn't know about."
   ]
  },
  {
   "cell_type": "code",
   "execution_count": null,
   "metadata": {},
   "outputs": [],
   "source": [
    "sin(0.5)"
   ]
  },
  {
   "cell_type": "markdown",
   "metadata": {},
   "source": [
    "The standard library has a number of mathematical functions in the `math` module, but for reasons that will become clear later, we will be better served by using `numpy`."
   ]
  },
  {
   "cell_type": "code",
   "execution_count": null,
   "metadata": {},
   "outputs": [],
   "source": [
    "import math\n",
    "import numpy as np\n",
    "\n",
    "print(np.sin(0.5))\n",
    "print(math.sin(0.5))"
   ]
  },
  {
   "cell_type": "markdown",
   "metadata": {},
   "source": [
    "**Aside**:  You may have learned in a programming class to import the contents of modules using something like\n",
    "`from math import *`. I advise against this for a number of reasons, but the most important is that (following the [Zen of Python](https://www.python.org/dev/peps/pep-0020/)) explicit is better than implicit.\n",
    "\n",
    "Applying this reasoning to the code in the cell above, we are being explicit about which `sin` function is provided by the `numpy` module (`np.sin`) and which is provided by the `math` module (`math.sin`). For this example they give the same result, but in some circumstances they don't, and it can be important to know what functions you are using."
   ]
  },
  {
   "cell_type": "markdown",
   "metadata": {},
   "source": [
    "Note that the default for trigonometric functions is to use radians. If you want to use degrees, there is a helper function `np.deg2rad` which you can use."
   ]
  },
  {
   "cell_type": "code",
   "execution_count": null,
   "metadata": {},
   "outputs": [],
   "source": [
    "np.sin(np.deg2rad(30))"
   ]
  },
  {
   "cell_type": "markdown",
   "metadata": {},
   "source": [
    "In addition to mathematical functions, both `math` and `numpy` have some useful mathematical constants and other helper functions. For further documentation, see the [Links Section](#Links) below."
   ]
  },
  {
   "cell_type": "code",
   "execution_count": null,
   "metadata": {},
   "outputs": [],
   "source": [
    "np.sin(np.pi/6)"
   ]
  },
  {
   "cell_type": "markdown",
   "metadata": {},
   "source": [
    "The main advantage (for our purposes) that `numpy` has over `math` is that it is natively able to handle arrays of numbers (including, but not limited to vectors)and *many* other things which we will explore later in the course. "
   ]
  },
  {
   "cell_type": "markdown",
   "metadata": {},
   "source": [
    "### Checkpoint 2: Calculate $\\cos (\\pi)$ below:"
   ]
  },
  {
   "cell_type": "code",
   "execution_count": null,
   "metadata": {},
   "outputs": [],
   "source": []
  },
  {
   "cell_type": "markdown",
   "metadata": {},
   "source": [
    "Numpy can perform just about any mathematical opperation. Here is a square root:"
   ]
  },
  {
   "cell_type": "code",
   "execution_count": null,
   "metadata": {},
   "outputs": [],
   "source": [
    "np.sqrt(4)"
   ]
  },
  {
   "cell_type": "markdown",
   "metadata": {},
   "source": [
    "### Checkpoint 3: Perform a different mathematical operation (that you haven't been shown yet) \n",
    "* You may reference the numpy documentation In Jupyter Lab go to the Help menu option above, and select NumPy Reference, or go to this link (https://numpy.org/doc/stable/), \n",
    "* Often Google can help, or you can guess in some cases"
   ]
  },
  {
   "cell_type": "code",
   "execution_count": null,
   "metadata": {},
   "outputs": [],
   "source": []
  },
  {
   "cell_type": "markdown",
   "metadata": {},
   "source": [
    "You can get complete documentation of any function or operator by using the built-in `help` function."
   ]
  },
  {
   "cell_type": "code",
   "execution_count": null,
   "metadata": {},
   "outputs": [],
   "source": [
    "help(math.sin)"
   ]
  },
  {
   "cell_type": "markdown",
   "metadata": {},
   "source": [
    "For somewhat complicated reasons, you'll get better results for `numpy` functions if you use `numpy.info` instead of `help` for them."
   ]
  },
  {
   "cell_type": "code",
   "execution_count": null,
   "metadata": {},
   "outputs": [],
   "source": [
    "np.info(np.sin)"
   ]
  },
  {
   "cell_type": "markdown",
   "metadata": {},
   "source": [
    "## Using variables\n",
    "A useful refinement is to give names to the quantities you're using so that you can keep track of them. The programming way to think about this is that you are storing values in variables:"
   ]
  },
  {
   "cell_type": "code",
   "execution_count": null,
   "metadata": {},
   "outputs": [],
   "source": [
    "theta = np.pi/6"
   ]
  },
  {
   "cell_type": "markdown",
   "metadata": {},
   "source": [
    "Note that the *assignment operator* '=' does not produce any output. This is important enough that I'll say it again, in red: \n",
    "\n",
    "<div style=\"background:rgba(255,0,0,0.4); padding:20px\">\n",
    "In python the = operator assigns values and does **not** test for equality.\n",
    "</div>\n",
    "\n",
    "Once you've assigned a value to a variable, you can use the variable anywhere you would use the value."
   ]
  },
  {
   "cell_type": "code",
   "execution_count": null,
   "metadata": {},
   "outputs": [],
   "source": [
    "np.sin(theta)"
   ]
  },
  {
   "cell_type": "markdown",
   "metadata": {},
   "source": [
    "This process allows you to think in terms of what the quantities are physically, rather than in terms of their values."
   ]
  },
  {
   "cell_type": "code",
   "execution_count": 1,
   "metadata": {},
   "outputs": [
    {
     "data": {
      "text/plain": [
       "4500.0"
      ]
     },
     "execution_count": 1,
     "metadata": {},
     "output_type": "execute_result"
    }
   ],
   "source": [
    "m = 0.1\n",
    "v = 300\n",
    "KE = m*v**2/2\n",
    "\n",
    "KE"
   ]
  },
  {
   "cell_type": "markdown",
   "metadata": {},
   "source": [
    "The caveat here is that the assignment to the variable `KE` uses the values of `m` and `v` at the time it is executed. If we later change the mass, for example,"
   ]
  },
  {
   "cell_type": "code",
   "execution_count": 2,
   "metadata": {},
   "outputs": [],
   "source": [
    "m = 0.3"
   ]
  },
  {
   "cell_type": "markdown",
   "metadata": {},
   "source": [
    "the value stored in `KE` doesn't change."
   ]
  },
  {
   "cell_type": "code",
   "execution_count": 3,
   "metadata": {},
   "outputs": [
    {
     "data": {
      "text/plain": [
       "4500.0"
      ]
     },
     "execution_count": 3,
     "metadata": {},
     "output_type": "execute_result"
    }
   ],
   "source": [
    "KE"
   ]
  },
  {
   "cell_type": "markdown",
   "metadata": {},
   "source": [
    "If we wanted to change the value in `KE`, we would need to repeat the assignment. However, a cleaner way to calculate kinetic energy for a variety of masses is to define a function (as you may already be familiar with from a programing class)"
   ]
  },
  {
   "cell_type": "markdown",
   "metadata": {},
   "source": [
    "### Checkpoint 4: Perform a physics calculation\n",
    "* Begin by defining variables (with useful names) \n",
    "* Pick the problem you want to calculate a result for (this could be from a problem from class or not)"
   ]
  },
  {
   "cell_type": "code",
   "execution_count": null,
   "metadata": {},
   "outputs": [],
   "source": []
  },
  {
   "cell_type": "markdown",
   "metadata": {},
   "source": [
    "# Links to additional information\n",
    "<a id='Links'></a>\n",
    "\n",
    "[The official numpy documentation](https://docs.scipy.org/doc/numpy/) Note that if you are new to python in general you will likely find this completely overwhelming and not very useful.\n",
    "\n",
    "[Documentation for the math module](https://docs.python.org/3/library/math.html) This is a bit more accessible, and most of the functions present here are also present in numpy."
   ]
  }
 ],
 "metadata": {
  "kernelspec": {
   "display_name": "Python 3",
   "language": "python",
   "name": "python3"
  },
  "language_info": {
   "codemirror_mode": {
    "name": "ipython",
    "version": 3
   },
   "file_extension": ".py",
   "mimetype": "text/x-python",
   "name": "python",
   "nbconvert_exporter": "python",
   "pygments_lexer": "ipython3",
   "version": "3.6.8"
  }
 },
 "nbformat": 4,
 "nbformat_minor": 4
}
