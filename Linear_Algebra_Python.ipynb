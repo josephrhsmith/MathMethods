{
 "cells": [
  {
   "cell_type": "markdown",
   "id": "8a093a73",
   "metadata": {},
   "source": [
    "# Linear Algebra in Python (a very brief introduction)\n",
    "## Submit by the deadline for HW #9. The last part will serve as a check for the corresponding problem \n",
    "-J. Smith"
   ]
  },
  {
   "cell_type": "code",
   "execution_count": null,
   "id": "ccd70906",
   "metadata": {},
   "outputs": [],
   "source": [
    "#Load libraries\n",
    "import numpy as np\n",
    "import sympy as sp"
   ]
  },
  {
   "cell_type": "markdown",
   "id": "df14772b",
   "metadata": {},
   "source": [
    "# Matrices in Numpy\n",
    "## Let's initialize a 2x2 matrix using numpy"
   ]
  },
  {
   "cell_type": "code",
   "execution_count": null,
   "id": "3bf25690",
   "metadata": {},
   "outputs": [],
   "source": [
    "A = np.array([[1,2],[3,4]])\n",
    "print(A)"
   ]
  },
  {
   "cell_type": "markdown",
   "id": "0caf1fbe",
   "metadata": {},
   "source": [
    "### 1. Now initialize the matrix B that is\n",
    "$$B =\\begin{bmatrix}5 & 6\\\\ 7 & 8 \\end{bmatrix} $$"
   ]
  },
  {
   "cell_type": "code",
   "execution_count": null,
   "id": "b3480b71",
   "metadata": {},
   "outputs": [],
   "source": [
    "  #Make a matrix B using numpy like above"
   ]
  },
  {
   "cell_type": "markdown",
   "id": "95d7aa46",
   "metadata": {},
   "source": [
    "## Matrix Addition: Just add the matrices as you would expect:"
   ]
  },
  {
   "cell_type": "code",
   "execution_count": null,
   "id": "c9d6bee3",
   "metadata": {},
   "outputs": [],
   "source": [
    "print(A+B)"
   ]
  },
  {
   "cell_type": "markdown",
   "id": "037a9c22",
   "metadata": {},
   "source": [
    "## 2. Try both `A*B` and `A@B`, which one is matrix mulitplication? What does the other do?"
   ]
  },
  {
   "cell_type": "code",
   "execution_count": null,
   "id": "077d1c4d",
   "metadata": {},
   "outputs": [],
   "source": [
    "print(A*B)"
   ]
  },
  {
   "cell_type": "code",
   "execution_count": null,
   "id": "6ef5a494",
   "metadata": {},
   "outputs": [],
   "source": [
    "print(A@B)"
   ]
  },
  {
   "cell_type": "markdown",
   "id": "a1a4007a",
   "metadata": {},
   "source": [
    "## 3. Find the commutator of A and B below $$ [A,B] = AB - BA$$"
   ]
  },
  {
   "cell_type": "code",
   "execution_count": null,
   "id": "7b51aa5e",
   "metadata": {},
   "outputs": [],
   "source": []
  },
  {
   "cell_type": "markdown",
   "id": "3a5ac5a8",
   "metadata": {},
   "source": [
    "### Now lets do some determinants"
   ]
  },
  {
   "cell_type": "code",
   "execution_count": null,
   "id": "1c718619",
   "metadata": {},
   "outputs": [],
   "source": [
    "C = np.array([[1,-5,2],[7,3,4],[2,1,5]])"
   ]
  },
  {
   "cell_type": "code",
   "execution_count": null,
   "id": "7695f953",
   "metadata": {},
   "outputs": [],
   "source": [
    "np.linalg.det(C)"
   ]
  },
  {
   "cell_type": "markdown",
   "id": "c4875209",
   "metadata": {},
   "source": [
    " ## 4. Does the answer above agree with what we found in class? If not can you explain why?\n",
    " "
   ]
  },
  {
   "cell_type": "markdown",
   "id": "132f8dc1-1323-4c30-b91c-902bcbe36c63",
   "metadata": {},
   "source": []
  },
  {
   "cell_type": "markdown",
   "id": "1ab2647d",
   "metadata": {},
   "source": [
    "## Below lets do the same thing but using symbolic python "
   ]
  },
  {
   "cell_type": "code",
   "execution_count": null,
   "id": "a24fe164",
   "metadata": {},
   "outputs": [],
   "source": [
    "D = sp.Matrix([[1,-5,2],[7,3,4],[2,1,5]])\n",
    "print(D)\n",
    "D.det()"
   ]
  },
  {
   "cell_type": "markdown",
   "id": "418231d7",
   "metadata": {},
   "source": [
    " ## 5. Find the determinant you calculated on the last worksheet using both numpy and sympy below:"
   ]
  },
  {
   "cell_type": "code",
   "execution_count": null,
   "id": "c5379627",
   "metadata": {},
   "outputs": [],
   "source": []
  },
  {
   "cell_type": "markdown",
   "id": "d7d42730",
   "metadata": {},
   "source": [
    " ## 6. Why do you think both numpy and sympy are useful. Explain what benefits each might have, try some examples. "
   ]
  },
  {
   "cell_type": "code",
   "execution_count": null,
   "id": "311918ba",
   "metadata": {},
   "outputs": [],
   "source": []
  },
  {
   "cell_type": "markdown",
   "id": "aa1e7d94",
   "metadata": {},
   "source": [
    "## Eignevalues and Eigenvectors "
   ]
  },
  {
   "cell_type": "code",
   "execution_count": null,
   "id": "60128cc1",
   "metadata": {},
   "outputs": [],
   "source": [
    "E = np.array([[3,1],[1,3]])\n",
    "np.linalg.eig(E)"
   ]
  },
  {
   "cell_type": "code",
   "execution_count": null,
   "id": "3c67a8f2",
   "metadata": {},
   "outputs": [],
   "source": [
    "F = sp.Matrix([[3,1],[1,3]])\n",
    "F.eigenvals()\n",
    "F.eigenvects()"
   ]
  },
  {
   "cell_type": "markdown",
   "id": "cf1987a5",
   "metadata": {},
   "source": [
    "## 7. Explain the differences in how sympy and numpy return the answers above (you may reference this https://docs.sympy.org/latest/tutorial/matrices.html) or Google if you need help"
   ]
  },
  {
   "cell_type": "markdown",
   "id": "bbc8401b-39f9-4d91-bcd1-5dca2e196eb0",
   "metadata": {},
   "source": []
  },
  {
   "cell_type": "markdown",
   "id": "bec3016b",
   "metadata": {},
   "source": [
    "## 8. Below are some of the Pauli spin matrices in both sympy and numpy. (You'll need to add $\\sigma_z$). Perform all of the checks you'll need for Homework 9 below"
   ]
  },
  {
   "cell_type": "code",
   "execution_count": null,
   "id": "769ee1b2",
   "metadata": {},
   "outputs": [],
   "source": [
    "sigma_x_np = np.array([[0,1],[1,0]])\n",
    "sigma_y_np = np.array([[0,-1j],[1j,0]])\n",
    "#add sigma_z here\n",
    "sigma_x_sp = sp.Matrix([[0,1],[1,0]])\n",
    "sigma_y_sp = sp.Matrix([[0,-1j],[1j,0]])\n",
    "#add sigma_z here\n"
   ]
  },
  {
   "cell_type": "code",
   "execution_count": null,
   "id": "164f83f6",
   "metadata": {},
   "outputs": [],
   "source": [
    "sigma_x_sp@sigma_y_sp"
   ]
  },
  {
   "cell_type": "code",
   "execution_count": null,
   "id": "3a5207a2",
   "metadata": {},
   "outputs": [],
   "source": [
    "sigma_y_sp@sigma_x_sp"
   ]
  },
  {
   "cell_type": "code",
   "execution_count": null,
   "id": "9e5176f4",
   "metadata": {},
   "outputs": [],
   "source": [
    "sigma_y_sp.eigenvects()\n"
   ]
  },
  {
   "cell_type": "code",
   "execution_count": null,
   "id": "4856230c",
   "metadata": {},
   "outputs": [],
   "source": []
  }
 ],
 "metadata": {
  "kernelspec": {
   "display_name": "Python 3",
   "language": "python",
   "name": "python3"
  },
  "language_info": {
   "codemirror_mode": {
    "name": "ipython",
    "version": 3
   },
   "file_extension": ".py",
   "mimetype": "text/x-python",
   "name": "python",
   "nbconvert_exporter": "python",
   "pygments_lexer": "ipython3",
   "version": "3.6.8"
  }
 },
 "nbformat": 4,
 "nbformat_minor": 5
}
