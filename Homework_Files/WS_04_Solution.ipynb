{
 "cells": [
  {
   "cell_type": "markdown",
   "id": "246b2165-c94c-4ec9-9a0c-a34c5775594e",
   "metadata": {},
   "source": [
    "# Worksheet 4: Example Solution"
   ]
  },
  {
   "cell_type": "code",
   "execution_count": 4,
   "id": "86ed62aa-6476-4856-8581-05f0247f1618",
   "metadata": {},
   "outputs": [],
   "source": [
    "import numpy as np"
   ]
  },
  {
   "cell_type": "markdown",
   "id": "e3d9fc4a-3408-4120-a013-14afa7da308f",
   "metadata": {},
   "source": [
    "# $\\cos(0.1)$"
   ]
  },
  {
   "cell_type": "code",
   "execution_count": 10,
   "id": "7e6d80a3-aac3-4379-808e-cc4b1d9e73a0",
   "metadata": {},
   "outputs": [
    {
     "name": "stdout",
     "output_type": "stream",
     "text": [
      "Relative Error: -4.186191546907881e-06\n",
      "Percent Relative Error: -0.0004186191546907881\n"
     ]
    }
   ],
   "source": [
    "exact = np.cos(0.1)\n",
    "estimate = 0.995\n",
    "rel_error = (estimate-exact)/exact\n",
    "print (\"Relative Error: \" + str(rel_error) )\n",
    "print (\"Percent Relative Error: \" + str(rel_error*100) )"
   ]
  },
  {
   "cell_type": "markdown",
   "id": "4cb05b16-ea18-467f-8f59-836c975b6a5e",
   "metadata": {},
   "source": [
    "$\\sqrt{1.2}$"
   ]
  },
  {
   "cell_type": "code",
   "execution_count": 12,
   "id": "feea0bae-79e6-4581-ba98-886d444ade65",
   "metadata": {},
   "outputs": [
    {
     "name": "stdout",
     "output_type": "stream",
     "text": [
      "Relative Error: 0.0041580220928046936\n",
      "Percent Relative Error: 0.41580220928046935\n"
     ]
    }
   ],
   "source": [
    "exact = np.sqrt(1.2) # or 1.2**0.5\n",
    "estimate = 1.1\n",
    "\n",
    "rel_error = (estimate-exact)/exact\n",
    "print (\"Relative Error: \" + str(rel_error) )\n",
    "print (\"Percent Relative Error: \" + str(rel_error*100) )"
   ]
  },
  {
   "cell_type": "markdown",
   "id": "c840fb64-ba3d-42ca-9977-0b14b86b820e",
   "metadata": {},
   "source": [
    "$\\sqrt[7]{0.999}$"
   ]
  },
  {
   "cell_type": "code",
   "execution_count": 14,
   "id": "24263ac8-e0bb-49f6-a134-236e0887975e",
   "metadata": {},
   "outputs": [
    {
     "name": "stdout",
     "output_type": "stream",
     "text": [
      "Relative Error: -8.16063881424728e-08\n",
      "Percent Relative Error: -8.16063881424728e-06\n"
     ]
    }
   ],
   "source": [
    "exact = 0.999**(1/7)\n",
    "estimate = 0.999857\n",
    "\n",
    "rel_error = (estimate-exact)/exact\n",
    "print (\"Relative Error: \" + str(rel_error) )\n",
    "print (\"Percent Relative Error: \" + str(rel_error*100) )"
   ]
  },
  {
   "cell_type": "markdown",
   "id": "1198a21a-85a0-4c03-bb51-694fe6dcc8d3",
   "metadata": {},
   "source": [
    "$\\sqrt{50}$"
   ]
  },
  {
   "cell_type": "code",
   "execution_count": 15,
   "id": "ae8fa51c-a2d7-476c-98a7-bd0a7c66e1d3",
   "metadata": {},
   "outputs": [
    {
     "name": "stdout",
     "output_type": "stream",
     "text": [
      "Relative Error: -0.00015101140222179726\n",
      "Percent Relative Error: -0.015101140222179725\n"
     ]
    }
   ],
   "source": [
    "exact = np.sqrt(50)\n",
    "estimate = 7.07\n",
    "\n",
    "rel_error = (estimate-exact)/exact\n",
    "print (\"Relative Error: \" + str(rel_error) )\n",
    "print (\"Percent Relative Error: \" + str(rel_error*100) )"
   ]
  },
  {
   "cell_type": "code",
   "execution_count": null,
   "id": "11e8d045-718b-427f-b515-14621b858d2b",
   "metadata": {},
   "outputs": [],
   "source": []
  }
 ],
 "metadata": {
  "kernelspec": {
   "display_name": "Python 3",
   "language": "python",
   "name": "python3"
  },
  "language_info": {
   "codemirror_mode": {
    "name": "ipython",
    "version": 3
   },
   "file_extension": ".py",
   "mimetype": "text/x-python",
   "name": "python",
   "nbconvert_exporter": "python",
   "pygments_lexer": "ipython3",
   "version": "3.6.8"
  }
 },
 "nbformat": 4,
 "nbformat_minor": 5
}
