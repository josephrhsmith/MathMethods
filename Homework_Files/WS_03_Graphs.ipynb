{
 "cells": [
  {
   "cell_type": "markdown",
   "id": "1fb87dd0-135d-4521-bff8-c92b9d7618dc",
   "metadata": {},
   "source": [
    "# Graphing Plots from WS #3\n",
    "* J. Smith 01/26/2023"
   ]
  },
  {
   "cell_type": "code",
   "execution_count": 1,
   "id": "e404588c-9f4b-4d7c-9192-aa6ae53908c8",
   "metadata": {},
   "outputs": [],
   "source": [
    "#import libraries for plotting and interactive sliders\n",
    "import numpy as np\n",
    "import matplotlib.pyplot as plt\n",
    "from ipywidgets import interact, interactive, fixed, interact_manual\n",
    "import ipywidgets as widgets"
   ]
  },
  {
   "cell_type": "code",
   "execution_count": 2,
   "id": "b796ae63-dc6d-4566-a23b-c03ebc3ebf3a",
   "metadata": {},
   "outputs": [],
   "source": [
    "#For showing graphs in the notebook nicely\n",
    "%matplotlib inline\n",
    "%config InlineBackend.figure_format = 'retina'"
   ]
  },
  {
   "cell_type": "code",
   "execution_count": 3,
   "id": "caea092e-9edb-40ea-8253-98e2c0e27d96",
   "metadata": {},
   "outputs": [],
   "source": [
    "xrange=15"
   ]
  },
  {
   "cell_type": "code",
   "execution_count": 4,
   "id": "b8561a16-93e0-41ac-8bf5-12eca58e465b",
   "metadata": {},
   "outputs": [],
   "source": [
    "def f1(a=1):\n",
    "    x = np.linspace(-xrange,xrange,200)\n",
    "    plt.xlim(-xrange,xrange)\n",
    "    y= x/(a**2+x**2)\n",
    "    \n",
    "    plt.grid()\n",
    "    plt.xlabel('x',fontsize='x-large')\n",
    "    plt.ylabel('y',fontsize='x-large')\n",
    "    plt.axhline(y=0, color='k')\n",
    "    plt.axvline(x=0, color='k')\n",
    "    plt.plot(x,y,linewidth=4,label =r'$ \\frac{x}{a^2+x^2}$' )\n",
    "    plt.legend(fontsize='x-large',loc='upper left')\n",
    "    plt.show()"
   ]
  },
  {
   "cell_type": "code",
   "execution_count": 5,
   "id": "85f840cf-2ab5-4b1b-bd7c-099646b18633",
   "metadata": {},
   "outputs": [
    {
     "data": {
      "application/vnd.jupyter.widget-view+json": {
       "model_id": "8cde7f2dc9bb4005a645efdd523f4461",
       "version_major": 2,
       "version_minor": 0
      },
      "text/plain": [
       "interactive(children=(FloatSlider(value=1.0, description='a', max=3.0, min=-3.0, step=0.5), Output()), _dom_cl…"
      ]
     },
     "metadata": {},
     "output_type": "display_data"
    }
   ],
   "source": [
    "interact(f1, a=widgets.FloatSlider(min=-3,max=3,step=0.5,value=1.0));"
   ]
  },
  {
   "cell_type": "code",
   "execution_count": 6,
   "id": "8e17a6be-8d7a-45d1-9fbc-de2ed5355a5e",
   "metadata": {},
   "outputs": [],
   "source": [
    "def f2(a=1):\n",
    "    x = np.linspace(-xrange,xrange,1000)\n",
    "    plt.xlim(-xrange,xrange)\n",
    "    y= x**2/(a**2-x**2)\n",
    "    plt.grid()\n",
    "    plt.axhline(y=0, color='k')\n",
    "    plt.axvline(x=0, color='k')\n",
    "    plt.plot(x,y,linewidth=2,label=r'$\\frac{x^2}{a^2-x^2}$')\n",
    "    plt.xlabel('x',fontsize='x-large')\n",
    "    plt.ylabel('y',fontsize='x-large')\n",
    "    plt.legend(fontsize='x-large',loc='upper left')\n",
    "    plt.ylim(-10,10)\n",
    "    plt.show()"
   ]
  },
  {
   "cell_type": "code",
   "execution_count": 7,
   "id": "772fa61f-c396-485a-b64a-20b28db114d4",
   "metadata": {},
   "outputs": [
    {
     "data": {
      "application/vnd.jupyter.widget-view+json": {
       "model_id": "05c2b5ee5b764ddfac8af4336ec8b876",
       "version_major": 2,
       "version_minor": 0
      },
      "text/plain": [
       "interactive(children=(FloatSlider(value=1.0, description='a', max=3.0, min=-3.0, step=0.5), Output()), _dom_cl…"
      ]
     },
     "metadata": {},
     "output_type": "display_data"
    }
   ],
   "source": [
    "interact(f2, a=widgets.FloatSlider(min=-3,max=3,step=0.5,value=1.0));"
   ]
  },
  {
   "cell_type": "code",
   "execution_count": null,
   "id": "63ca6b67-4d32-42a6-89b5-1c26192fea53",
   "metadata": {},
   "outputs": [],
   "source": []
  }
 ],
 "metadata": {
  "kernelspec": {
   "display_name": "Python 3.9 (Conda 2022.05) [python/3.9-2022.05]",
   "language": "python",
   "name": "python39_202205"
  },
  "language_info": {
   "codemirror_mode": {
    "name": "ipython",
    "version": 3
   },
   "file_extension": ".py",
   "mimetype": "text/x-python",
   "name": "python",
   "nbconvert_exporter": "python",
   "pygments_lexer": "ipython3",
   "version": "3.9.12"
  }
 },
 "nbformat": 4,
 "nbformat_minor": 5
}
