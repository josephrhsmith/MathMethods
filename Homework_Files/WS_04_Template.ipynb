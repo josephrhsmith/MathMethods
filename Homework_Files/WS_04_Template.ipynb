{
 "cells": [
  {
   "cell_type": "markdown",
   "id": "246b2165-c94c-4ec9-9a0c-a34c5775594e",
   "metadata": {},
   "source": [
    "# Worksheet 4: Importing numpy"
   ]
  },
  {
   "cell_type": "code",
   "execution_count": 1,
   "id": "86ed62aa-6476-4856-8581-05f0247f1618",
   "metadata": {},
   "outputs": [],
   "source": [
    "import numpy as np"
   ]
  },
  {
   "cell_type": "code",
   "execution_count": 2,
   "id": "7e6d80a3-aac3-4379-808e-cc4b1d9e73a0",
   "metadata": {},
   "outputs": [
    {
     "data": {
      "text/plain": [
       "0.9950041652780258"
      ]
     },
     "execution_count": 2,
     "metadata": {},
     "output_type": "execute_result"
    }
   ],
   "source": [
    "np.cos(0.1)"
   ]
  },
  {
   "cell_type": "code",
   "execution_count": null,
   "id": "99c98997-6d08-4373-99e1-f04e9dd371af",
   "metadata": {},
   "outputs": [],
   "source": []
  }
 ],
 "metadata": {
  "kernelspec": {
   "display_name": "Python 3",
   "language": "python",
   "name": "python3"
  },
  "language_info": {
   "codemirror_mode": {
    "name": "ipython",
    "version": 3
   },
   "file_extension": ".py",
   "mimetype": "text/x-python",
   "name": "python",
   "nbconvert_exporter": "python",
   "pygments_lexer": "ipython3",
   "version": "3.6.8"
  }
 },
 "nbformat": 4,
 "nbformat_minor": 5
}
