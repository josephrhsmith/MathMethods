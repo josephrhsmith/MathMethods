{
 "cells": [
  {
   "cell_type": "markdown",
   "id": "f96ef835",
   "metadata": {},
   "source": [
    "# Complex Numbers in Python \n",
    "J. Smith\n",
    "\n",
    "### Python is built to handle complex numbers out of the box. The syntax is $\\texttt{complex(Real, Imaginary)}$. For example if we wanted to represent the complex number $z=x+iy = 1+2i$, we would write the following. "
   ]
  },
  {
   "cell_type": "code",
   "execution_count": null,
   "id": "1b781dea",
   "metadata": {},
   "outputs": [],
   "source": [
    "complex(1,2)"
   ]
  },
  {
   "cell_type": "markdown",
   "id": "1976d928",
   "metadata": {},
   "source": [
    "### Notice that python uses 'j' instead of 'i' to represent $\\sqrt{-1}$. This is common in some fields. If you want to type an imaginary component just type the number with a 'j' following. For example here we add 4j+1j\n"
   ]
  },
  {
   "cell_type": "code",
   "execution_count": null,
   "id": "ad850f5b",
   "metadata": {},
   "outputs": [],
   "source": [
    "4j+1j"
   ]
  },
  {
   "cell_type": "markdown",
   "id": "1f3ea950",
   "metadata": {},
   "source": [
    "\n",
    "# Basic Algebraic Operations\n",
    "* ### Let's practice some algebra with complex numbers in python from the complex number worksheet.\n",
    "* ### If you haven't completed these problems R2-R5, work them out by hand on the worksheet first"
   ]
  },
  {
   "cell_type": "code",
   "execution_count": null,
   "id": "f7f7d7f0",
   "metadata": {},
   "outputs": [],
   "source": [
    "z=complex(3,4)\n",
    "w=complex(2,-2)\n",
    "print(\"z = \" + str(z) + \" and w = \"+str (w))"
   ]
  },
  {
   "cell_type": "code",
   "execution_count": null,
   "id": "fe5b756e",
   "metadata": {},
   "outputs": [],
   "source": [
    "z-w"
   ]
  },
  {
   "cell_type": "markdown",
   "id": "2a4aa41f",
   "metadata": {},
   "source": [
    "### Check 1: Following the worksheet from class, calculate the results below\n",
    "- ### R3: z*w\n",
    "- ### R4: z/w"
   ]
  },
  {
   "cell_type": "code",
   "execution_count": null,
   "id": "97501d32",
   "metadata": {},
   "outputs": [],
   "source": [
    "#Make your calculations here\n",
    "z*w"
   ]
  },
  {
   "cell_type": "markdown",
   "id": "b8738443",
   "metadata": {},
   "source": [
    "### Check that your answers above agree with the worksheet. If they do not check your work and/or ask the instructor"
   ]
  },
  {
   "cell_type": "markdown",
   "id": "77e69cb5",
   "metadata": {},
   "source": [
    "# Useful Functions\n",
    "- ### To get the conjugate of a complex number $\\texttt{z}$, just type $\\texttt{z.conjugate()}$\n",
    "- ### To get the real and imagniary components, try $\\texttt{z.real}$ and $\\texttt{z.imag}$ \n",
    "- ### To get the magnitude $|z|$ you can just take the absolute value $\\texttt{abs(z)}$\n"
   ]
  },
  {
   "cell_type": "code",
   "execution_count": null,
   "id": "ae36019a",
   "metadata": {},
   "outputs": [],
   "source": [
    "print('For the complex number w = ' + str(w))\n",
    "print('The conjugate w*=' + str(w.conjugate()))\n",
    "print('Real component: ' + str(w.real))\n",
    "print('Imaginary component: ' + str(w.imag))\n",
    "print('Magnitude: ' + str(abs(w)))"
   ]
  },
  {
   "cell_type": "markdown",
   "id": "262f0889",
   "metadata": {},
   "source": [
    "# Check 2: Calculate R5 from the worksheet \n",
    "* ### Make sure your answers agree"
   ]
  },
  {
   "cell_type": "code",
   "execution_count": null,
   "id": "3b4b9f89",
   "metadata": {},
   "outputs": [],
   "source": [
    "#Make your calculations here"
   ]
  },
  {
   "cell_type": "markdown",
   "id": "1fa948ac",
   "metadata": {},
   "source": [
    "# For more complex operations we can use the `cmath` library \n",
    "- ### If you do $\\texttt{cmath.polar(z)}$ it will return a pair of numbers (r,$\\phi$), where r is the modulus of the number and $\\phi$ is the phase. \n",
    "- ### You can also calculate the $\\texttt{phase(z)}$ separately\n",
    "- ### See https://docs.python.org/3/library/cmath.html for more details"
   ]
  },
  {
   "cell_type": "code",
   "execution_count": null,
   "id": "9e101f8e",
   "metadata": {},
   "outputs": [],
   "source": [
    "import cmath\n",
    "import numpy as np\n",
    "cmath.polar(w)"
   ]
  },
  {
   "cell_type": "markdown",
   "id": "d122f55a",
   "metadata": {},
   "source": [
    "## Check 3: Calculate R6 and R7 below and check your work"
   ]
  },
  {
   "cell_type": "code",
   "execution_count": null,
   "id": "60c6bf0a",
   "metadata": {},
   "outputs": [],
   "source": [
    "# Make your calculations here"
   ]
  },
  {
   "cell_type": "markdown",
   "id": "59c22bda",
   "metadata": {},
   "source": [
    "# Exponentials\n",
    "- ### We can also represent complex numbers in exponential form:"
   ]
  },
  {
   "cell_type": "code",
   "execution_count": null,
   "id": "afcb5a9d",
   "metadata": {},
   "outputs": [],
   "source": [
    "z = 2**(1/2)*cmath.exp(1j*np.pi/4)\n",
    "print(z)"
   ]
  },
  {
   "cell_type": "markdown",
   "id": "f721a1a1",
   "metadata": {},
   "source": [
    "### Check 4:  Create a new complex number $w = 2 e^{i\\frac{2\\pi}{3}}$ and c\n",
    "- Do all of the answers agree? Comment on rounding."
   ]
  },
  {
   "cell_type": "code",
   "execution_count": null,
   "id": "941aca95",
   "metadata": {},
   "outputs": [],
   "source": [
    "# Define w here"
   ]
  },
  {
   "cell_type": "markdown",
   "id": "c3e08f42",
   "metadata": {},
   "source": [
    "## Check 5: Complete R10 - R13 on the worksheet"
   ]
  },
  {
   "cell_type": "code",
   "execution_count": null,
   "id": "48226e47",
   "metadata": {},
   "outputs": [],
   "source": [
    "#Make calculations for R10-R13 here"
   ]
  },
  {
   "cell_type": "code",
   "execution_count": null,
   "id": "94a2bd80",
   "metadata": {},
   "outputs": [],
   "source": []
  },
  {
   "cell_type": "code",
   "execution_count": null,
   "id": "b903972d",
   "metadata": {},
   "outputs": [],
   "source": []
  }
 ],
 "metadata": {
  "kernelspec": {
   "display_name": "Python 3.6 (Conda 5.2) [python/3.6-conda5.2]",
   "language": "python",
   "name": "python36_conda52"
  },
  "language_info": {
   "codemirror_mode": {
    "name": "ipython",
    "version": 3
   },
   "file_extension": ".py",
   "mimetype": "text/x-python",
   "name": "python",
   "nbconvert_exporter": "python",
   "pygments_lexer": "ipython3",
   "version": "3.6.6"
  }
 },
 "nbformat": 4,
 "nbformat_minor": 5
}
