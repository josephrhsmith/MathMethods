{
 "cells": [
  {
   "cell_type": "markdown",
   "metadata": {},
   "source": [
    "# Solving Ordinary Differential Equations (ODEs) numerically in Python\n",
    "### -MC Physics [Updated 02/2024]\n",
    "\n",
    "For the most part, we can (and do) express the basic laws of physics in terms of differential equations. Much of your undergraduate physics education deals with analytical methods for dealing with these equations, but in many cases we have to resort to numerics to make headway. Even in cases where analytical solutions exist, we can often gain some insight by looking at visual representations of numerical solutions.\n",
    "\n",
    "This notebook will introduce you to the basics of solving ordinary differential equations numerically with python. There are other differential equation solvers (e.g. https://pythonnumericalmethods.berkeley.edu/notebooks/chapter22.06-Python-ODE-Solvers.html)"
   ]
  },
  {
   "cell_type": "code",
   "execution_count": null,
   "metadata": {},
   "outputs": [],
   "source": [
    "pip install matplotlib #For plotting if not already installed"
   ]
  },
  {
   "cell_type": "code",
   "execution_count": null,
   "metadata": {},
   "outputs": [],
   "source": [
    "# Imports for this tutorial\n",
    "import numpy as np\n",
    "import matplotlib.pyplot as plt\n",
    "from scipy.integrate import odeint\n",
    "\n",
    "%matplotlib inline"
   ]
  },
  {
   "cell_type": "markdown",
   "metadata": {},
   "source": [
    "# Simplest use cases\n",
    "\n",
    "## First order scalar equations\n",
    "\n",
    "Courses in differential equations usually start with first order equations with constant coefficients, like $$\\frac{dy}{dx} + \\frac{1}{2}y = \\frac{3}{2},$$ which has the solution $$y = 3+ce^{-x/2}.$$  There is one constant of integration, so we can specify one boundary (or initial) condition.\n",
    "\n",
    "The procedure for solving this (or any, really) ODE has the following steps:\n",
    "1. Rewrite the equation isolating the derivative on the left hand side.\n",
    "2. Write a python function for the right hand side.\n",
    "3. Set up the values for the independent variable.\n",
    "4. Set initial conditions.\n",
    "5. Integrate.\n",
    "\n",
    "Step 1 looks like this:\n",
    "$$\\frac{dy}{dx} = -\\frac{1}{2}y + \\frac{3}{2}.$$\n",
    "\n",
    "All of the others are done in python."
   ]
  },
  {
   "cell_type": "code",
   "execution_count": null,
   "metadata": {},
   "outputs": [],
   "source": [
    "# write a python function for the RHS\n",
    "def rhs(y, x):\n",
    "    \"\"\"Right hand side for our differential equation.\"\"\"\n",
    "    return -0.5*y + 1.5\n",
    "\n",
    "\n",
    "# values for independent variable (x in this case)\n",
    "x = np.linspace(0, 10, 1000)\n",
    "\n",
    "# initial conditions\n",
    "y0 = 1.0\n",
    "\n",
    "# integrate\n",
    "result = odeint(rhs, y0, x)"
   ]
  },
  {
   "cell_type": "markdown",
   "metadata": {},
   "source": [
    "The easiest way to look at the results is with a plot."
   ]
  },
  {
   "cell_type": "code",
   "execution_count": null,
   "metadata": {},
   "outputs": [],
   "source": [
    "plt.plot(x, result)\n",
    "plt.xlabel(\"x\")\n",
    "plt.ylabel(\"y\")\n",
    "plt.title(\"solution to $dy/dx = -1/2 y + 3/2$ with $y(0) = 1$\");"
   ]
  },
  {
   "cell_type": "markdown",
   "metadata": {},
   "source": [
    "All numerical solutions to ODEs essentially follow the same pattern, so you should be able to copy and paste (with modifications) the above cells in your own work."
   ]
  },
  {
   "cell_type": "markdown",
   "metadata": {},
   "source": [
    "# Check #1:\n",
    "#### Use odeint to solve the differential equation $y^\\prime = 3 x^2 y + y$ (from the homework) for initial conditions y=2 when x=0, and plot the answer. \n",
    "#### Feel free to copy and paste/modify the code above and ask your instructor or neighbors for help. \n",
    "#### Warning: you may need to change the maximum range of x in the $\\texttt{np.linspace()}$ command. Use the help option in Jupyter and/or Google for help. "
   ]
  },
  {
   "cell_type": "code",
   "execution_count": null,
   "metadata": {},
   "outputs": [],
   "source": [
    "# write a python function for the RHS\n",
    "def rhs(y, x):\n",
    "    \"\"\"Right hand side for our differential equation.\"\"\"\n",
    "    return y/(y+1)\n",
    "\n",
    "\n",
    "# values for independent variable (x in this case)\n",
    "x = np.linspace(1, 10, 1000)\n",
    "\n",
    "# initial conditions\n",
    "y0 = 1.0\n",
    "\n",
    "# integrate\n",
    "result = odeint(rhs, y0, x)\n",
    "plt.plot(x, result)\n",
    "plt.xlabel(\"x\")\n",
    "plt.ylabel(\"y\")\n",
    "plt.title(\"solution to $dy/dx = -1/2 y + 3/2$ with $y(0) = 1$\");"
   ]
  },
  {
   "cell_type": "markdown",
   "metadata": {},
   "source": [
    "## Second order scalar equations\n",
    "There are two important adjustments we need to make for this to be really useful in a physics context.\n",
    "\n",
    "As described above, `odeint` only works with first order equations. However, the ODEs we encounter in physics are, generally speaking, second order and above. So, what do we do?\n",
    "\n",
    "Your differential equations class should have taught you that you can write an nth order ODE as a set of n first order ODEs. For example, Newton's second law in one dimension, $$\\frac{d^2x}{dt^2} = \\frac{F}{m}$$ is second order, but can be written as a pair of first order equations, namely, $$\\frac{dx}{dt} = v$$ and $$\\frac{dv}{dt} = \\frac{F}{m}.$$\n",
    "\n",
    "We can make use of this idea by making one small change to the pattern laid out above: let $y$ be a container for the two scalar variables $x$ and $v$.  To get specific, let's look at a mass oscillating on a spring. Then $F = -kx$. We will assume $m = k = 1$, but I'll show you where they would go into our python function."
   ]
  },
  {
   "cell_type": "code",
   "execution_count": null,
   "metadata": {
    "tags": []
   },
   "outputs": [],
   "source": [
    "# write a python function for the RHS\n",
    "def rhs(y, t):\n",
    "    \"\"\"Right hand side for our differential equation.\"\"\"\n",
    "    # mass and spring constant\n",
    "    m = 1\n",
    "    k = 1\n",
    "    \n",
    "    # unpack y\n",
    "    x,v = y\n",
    "    \n",
    "    # calculate the force\n",
    "    F = -k*x\n",
    "    \n",
    "    # return dx/dt and dv/dt\n",
    "    return v, F/m\n",
    "\n",
    "\n",
    "# values for independent variable (x in this case)\n",
    "t = np.linspace(0, 10, 1000)\n",
    "\n",
    "# initial conditions\n",
    "y0 = (1.0, 0)\n",
    "\n",
    "# integrate\n",
    "result = odeint(rhs, y0, t)"
   ]
  },
  {
   "cell_type": "markdown",
   "metadata": {},
   "source": [
    "Again, we can plot to see the results. Note that now we have results for both $x(t)$ and $v(t)$; they are returned as elements of an array (hence the indexing in the plot statements). Since we're plotting two quantities with different units, I have chosen not to label the $y$-axis of this plot, but instead use a legend."
   ]
  },
  {
   "cell_type": "code",
   "execution_count": null,
   "metadata": {},
   "outputs": [],
   "source": [
    "plt.plot(t, result[:,0], label=\"x (m)\")\n",
    "plt.plot(t, result[:,1], label=\"v (m/s)\")\n",
    "plt.xlabel(\"t\")\n",
    "leg = plt.legend(loc=\"upper left\")\n",
    "leg.set_bbox_to_anchor((1,1))\n",
    "plt.title(\"Harmonic oscillator, m=k=1\");"
   ]
  },
  {
   "cell_type": "markdown",
   "metadata": {},
   "source": [
    "Although I've illustrated this here with a second order equation, this technique will work with any order ODE."
   ]
  },
  {
   "cell_type": "markdown",
   "metadata": {},
   "source": [
    "## Check #2: \n",
    "#### Use the technique above to solve and graph the position and velocity of an object in free fall (F = -m g), where $g = 9.8~m/s^2$"
   ]
  },
  {
   "cell_type": "code",
   "execution_count": null,
   "metadata": {},
   "outputs": [],
   "source": []
  },
  {
   "cell_type": "markdown",
   "metadata": {},
   "source": [
    "## Multiple initial conditions\n",
    "\n",
    "Often in studying differential equations, we want to see the behavior of *families* of solutions, that is, collections of solutions with different initial conditions or different values for some key parameter. It is (relatively) easy to do either of these things, but it does require a small modification to how we set up the problem and plot the results.\n",
    "\n",
    "Let's revisit the first equation we solved in this tutorial: $$\\frac{dy}{dx} = -\\frac{1}{2}y + \\frac{3}{2},$$ and solve it with 10 different initial conditions, equally spaced between 0 and 6."
   ]
  },
  {
   "cell_type": "code",
   "execution_count": null,
   "metadata": {
    "tags": []
   },
   "outputs": [],
   "source": [
    "# write a python function for the RHS\n",
    "def rhs(y, x):\n",
    "    \"\"\"Right hand side for our differential equation.\"\"\"\n",
    "    return -0.5*y + 1.5\n",
    "\n",
    "\n",
    "# values for independent variable (x in this case)\n",
    "x = np.linspace(0, 10, 1000)\n",
    "\n",
    "# initial conditions\n",
    "y0 = np.linspace(0,6,10)\n",
    "\n",
    "# integrate\n",
    "result = odeint(rhs, y0, x)"
   ]
  },
  {
   "cell_type": "code",
   "execution_count": null,
   "metadata": {},
   "outputs": [],
   "source": [
    "result.shape"
   ]
  },
  {
   "cell_type": "markdown",
   "metadata": {},
   "source": [
    "Our `result` comes back with 10 series, each one corresponding to a different initial condition."
   ]
  },
  {
   "cell_type": "code",
   "execution_count": null,
   "metadata": {},
   "outputs": [],
   "source": [
    "for idx, ic in enumerate(y0):\n",
    "    plt.plot(x, result[:,idx], label=\"$y_0 =$\" + \"{:4.2f}\".format(ic))\n",
    "plt.xlabel(\"x\")\n",
    "plt.ylabel(\"y\")\n",
    "leg = plt.legend(loc=\"upper left\")\n",
    "leg.set_bbox_to_anchor((1,1))\n",
    "plt.title(\"solutions to $dy/dx = -1/2 y + 3/2$\");"
   ]
  },
  {
   "cell_type": "markdown",
   "metadata": {},
   "source": [
    "# Check #3: Carefully explain the graph above:"
   ]
  },
  {
   "cell_type": "markdown",
   "metadata": {},
   "source": []
  },
  {
   "cell_type": "markdown",
   "metadata": {},
   "source": [
    "# Check #4: Using what you learned above, use odeint to solve another ODE we've solved in this class"
   ]
  },
  {
   "cell_type": "code",
   "execution_count": null,
   "metadata": {},
   "outputs": [],
   "source": []
  },
  {
   "cell_type": "markdown",
   "metadata": {},
   "source": [
    "# If you finished all check points above before the end of class, please continue to work through the following examples. If you did not finish the examples before the end of class you may submit the assignment after finishing Check #4. "
   ]
  },
  {
   "cell_type": "markdown",
   "metadata": {},
   "source": [
    "For the mass on a spring, each initial condition had two values: $x_0$ and $v_0$. Unfortunately, this means we can't use the approach given above. Instead, we can make a list of initial conditions and loop through, integrating (and then plotting) them one at a time."
   ]
  },
  {
   "cell_type": "code",
   "execution_count": null,
   "metadata": {},
   "outputs": [],
   "source": [
    "# write a python function for the RHS\n",
    "def rhs(y, t):\n",
    "    \"\"\"Right hand side for our differential equation.\"\"\"\n",
    "    # mass and spring constant\n",
    "    m = 1\n",
    "    k = 1\n",
    "    \n",
    "    # unpack y\n",
    "    x,v = y\n",
    "    \n",
    "    # calculate the force\n",
    "    F = -k*x\n",
    "    \n",
    "    # return dx/dt and dv/dt\n",
    "    return v, F/m\n",
    "\n",
    "\n",
    "# values for independent variable (x in this case)\n",
    "t = np.linspace(0, 10, 1000)\n",
    "\n",
    "# initial conditions\n",
    "x0 = np.linspace(-1,1,10)\n",
    "v0 = np.ones_like(x0)\n",
    "y0 = [*zip(x0,v0)] # make an association of pairs of initial position and velocity\n",
    "\n",
    "# integrate and plot\n",
    "for ic in y0:\n",
    "    result = odeint(rhs, ic, t)\n",
    "    # just plot x; plotting v also would be too busy\n",
    "    plt.plot(t, result[:,0], label=\"$x_0 = $\" + \"{:4.2f}\".format(ic[0]))\n",
    "\n",
    "plt.xlabel(\"t\")\n",
    "leg = plt.legend(loc=\"upper left\")\n",
    "leg.set_bbox_to_anchor((1,1))\n",
    "plt.title(\"Harmonic oscillator, m=k=1\");"
   ]
  },
  {
   "cell_type": "code",
   "execution_count": null,
   "metadata": {},
   "outputs": [],
   "source": [
    "y0"
   ]
  },
  {
   "cell_type": "markdown",
   "metadata": {},
   "source": [
    "## Additional arguments to the `rhs()` function\n",
    "\n",
    "In the mass on a spring case, we may want to compare various values of the spring constant $k$ (or the mass, but it's really the ratio of the two that matters, so we can hold one fixed and just vary the other).  In the function we defined above, $k$ is constant. We could write a separate function for each value of $k$ we want to examine, but that would violate the principle of having the computer do as much of the work (and especially tedious work) as possible.\n",
    "\n",
    "Instead, let's rewrite our `rhs` function to take parameters."
   ]
  },
  {
   "cell_type": "code",
   "execution_count": null,
   "metadata": {
    "tags": []
   },
   "outputs": [],
   "source": [
    "def rhs(y, t, k=1, m=1):\n",
    "    \"\"\"Right hand side for our differential equation.\n",
    "    \n",
    "    :param y: iterable with x, xdot\n",
    "    :param t: independent variable. Not actually used here, but necessary for odeint\n",
    "    :param k: spring constant\n",
    "    :param m: mass\n",
    "    \n",
    "    :returns: tuple containing dx/dt, d2x/dt2\n",
    "    \"\"\"\n",
    "    \n",
    "    # unpack y\n",
    "    x,v = y\n",
    "    \n",
    "    # calculate the force\n",
    "    F = -k*x\n",
    "    \n",
    "    # return dx/dt and dv/dt\n",
    "    return v, F/m"
   ]
  },
  {
   "cell_type": "markdown",
   "metadata": {},
   "source": [
    "Now we're faced with a problem. How do we get the extra parameters into `rhs` when it's being called by `odeint`? The answer: we supply another argument to `odeint` containing the extra parameters."
   ]
  },
  {
   "cell_type": "code",
   "execution_count": null,
   "metadata": {},
   "outputs": [],
   "source": [
    "# values for independent variable (x in this case)\n",
    "t = np.linspace(0, 10, 1000)\n",
    "\n",
    "# initial conditions\n",
    "y0 = (1.0, 0)\n",
    "\n",
    "# the trailing comma is necessary to make this a tuple\n",
    "parameters = (3.0,)\n",
    "\n",
    "# integrate\n",
    "result = odeint(rhs, y0, t, args=parameters)\n",
    "\n",
    "# plot results\n",
    "plt.plot(t, result[:,0], label=\"x (m)\")\n",
    "plt.plot(t, result[:,1], label=\"v (m/s)\")\n",
    "plt.xlabel(\"t\")\n",
    "leg = plt.legend(loc=\"upper left\")\n",
    "leg.set_bbox_to_anchor((1,1))\n",
    "plt.title(\"Harmonic oscillator, m=1, k={:4.2f}\".format(parameters[0]));"
   ]
  },
  {
   "cell_type": "markdown",
   "metadata": {},
   "source": [
    "To compare multiple values, we would again create a list and loop through it."
   ]
  },
  {
   "cell_type": "code",
   "execution_count": null,
   "metadata": {},
   "outputs": [],
   "source": [
    "# values for independent variable (x in this case)\n",
    "t = np.linspace(0, 10, 1000)\n",
    "\n",
    "# initial conditions\n",
    "y0 = (1.0, 0)\n",
    "\n",
    "# the trailing comma is necessary to make this a tuple\n",
    "paramslist = [(kval,) for kval in np.linspace(1.0, 5.0, 5)]\n",
    "\n",
    "# integrate\n",
    "for parameters in paramslist:\n",
    "    result = odeint(rhs, y0, t, args=parameters)\n",
    "    plt.plot(t, result[:,0], label=\"k = {:4.2f}\".format(parameters[0]))\n",
    "\n",
    "\n",
    "# plot results\n",
    "plt.ylabel(\"x\")\n",
    "plt.xlabel(\"t\")\n",
    "leg = plt.legend(loc=\"upper left\")\n",
    "leg.set_bbox_to_anchor((1,1))\n",
    "plt.title(\"Harmonic oscillator, m=1\");"
   ]
  },
  {
   "cell_type": "markdown",
   "metadata": {},
   "source": [
    "# Reference/Complete documentation"
   ]
  },
  {
   "cell_type": "code",
   "execution_count": null,
   "metadata": {},
   "outputs": [],
   "source": [
    "# full docstring for odeint\n",
    "help(odeint)"
   ]
  }
 ],
 "metadata": {
  "kernelspec": {
   "display_name": "Python 3",
   "language": "python",
   "name": "python3"
  },
  "language_info": {
   "codemirror_mode": {
    "name": "ipython",
    "version": 3
   },
   "file_extension": ".py",
   "mimetype": "text/x-python",
   "name": "python",
   "nbconvert_exporter": "python",
   "pygments_lexer": "ipython3",
   "version": "3.6.8"
  }
 },
 "nbformat": 4,
 "nbformat_minor": 4
}
